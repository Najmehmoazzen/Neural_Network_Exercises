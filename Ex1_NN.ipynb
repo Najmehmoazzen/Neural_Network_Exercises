{
 "cells": [
  {
   "cell_type": "markdown",
   "metadata": {
    "id": "phwuCcc8ncbj"
   },
   "source": [
    "## Classificate random numbers between 0 to 1, which are more than 0.5 or not."
   ]
  },
  {
   "cell_type": "code",
   "execution_count": 1,
   "metadata": {
    "colab": {
     "base_uri": "https://localhost:8080/"
    },
    "id": "0v3D0WVqj3Fk",
    "outputId": "d7aff29a-b813-47d7-aab4-4728aba997c2"
   },
   "outputs": [
    {
     "data": {
      "text/plain": [
       "(10000, 1)"
      ]
     },
     "execution_count": 1,
     "metadata": {},
     "output_type": "execute_result"
    }
   ],
   "source": [
    "# Create training data and lables\n",
    "\n",
    "import numpy as np\n",
    "data = np.random.random (10000)                  # 10,000 number automatically between 0 to 1         # these are our training data\n",
    "#data.shape                                      # output: 10000                                      # How many dimensions does it have.\n",
    "# This is not suitable output for our model. So we need 2 dimension\n",
    "data.shape = 10000,1                             # 10,000 number and 1 value per observation\n",
    "data.shape"
   ]
  },
  {
   "cell_type": "code",
   "execution_count": 2,
   "metadata": {
    "colab": {
     "base_uri": "https://localhost:8080/"
    },
    "id": "IIQQYruEsy2V",
    "outputId": "4f5183f8-7822-476a-be8f-936582f506cd"
   },
   "outputs": [
    {
     "data": {
      "text/plain": [
       "array([[0.62802451],\n",
       "       [0.47025878],\n",
       "       [0.31748108],\n",
       "       ...,\n",
       "       [0.67010541],\n",
       "       [0.78227413],\n",
       "       [0.10342687]])"
      ]
     },
     "execution_count": 2,
     "metadata": {},
     "output_type": "execute_result"
    }
   ],
   "source": [
    "data"
   ]
  },
  {
   "cell_type": "code",
   "execution_count": 3,
   "metadata": {
    "colab": {
     "base_uri": "https://localhost:8080/"
    },
    "id": "Z51K2kWWm0Mn",
    "outputId": "da98b602-27a1-425d-c4b3-6e432a240461"
   },
   "outputs": [
    {
     "data": {
      "text/plain": [
       "array([[ True],\n",
       "       [False],\n",
       "       [False],\n",
       "       ...,\n",
       "       [ True],\n",
       "       [ True],\n",
       "       [False]])"
      ]
     },
     "execution_count": 3,
     "metadata": {},
     "output_type": "execute_result"
    }
   ],
   "source": [
    "# Larger than 0.5 --> class true\n",
    "# Smaller than 0.5 --> class false\n",
    "\n",
    "labels = np.array(data >= 0.5)                   # It create array in in boolean.\n",
    "labels                                           # This is not suitable output for us. because we need value."
   ]
  },
  {
   "cell_type": "code",
   "execution_count": 4,
   "metadata": {
    "colab": {
     "base_uri": "https://localhost:8080/"
    },
    "id": "XW6mZgsCqMSQ",
    "outputId": "bb6624e5-191c-41bb-9837-23dd5aada950"
   },
   "outputs": [
    {
     "data": {
      "text/plain": [
       "array([[1],\n",
       "       [0],\n",
       "       [0],\n",
       "       ...,\n",
       "       [1],\n",
       "       [1],\n",
       "       [0]])"
      ]
     },
     "execution_count": 4,
     "metadata": {},
     "output_type": "execute_result"
    }
   ],
   "source": [
    "# Larger than 0.5 --> class 1\n",
    "# Smaller than 0.5 --> class 0\n",
    "\n",
    "labels = np.array(data >= 0.5 , dtype=int)\n",
    "labels"
   ]
  },
  {
   "cell_type": "code",
   "execution_count": 5,
   "metadata": {
    "colab": {
     "base_uri": "https://localhost:8080/"
    },
    "id": "X8UY4-z_smSH",
    "outputId": "24bbac09-e401-42ca-d1e0-481fc11fe4ef"
   },
   "outputs": [
    {
     "name": "stdout",
     "output_type": "stream",
     "text": [
      "Model: \"sequential\"\n",
      "_________________________________________________________________\n",
      " Layer (type)                Output Shape              Param #   \n",
      "=================================================================\n",
      " dense (Dense)               (None, 8)                 16        \n",
      "                                                                 \n",
      " dense_1 (Dense)             (None, 2)                 18        \n",
      "                                                                 \n",
      "=================================================================\n",
      "Total params: 34\n",
      "Trainable params: 34\n",
      "Non-trainable params: 0\n",
      "_________________________________________________________________\n"
     ]
    }
   ],
   "source": [
    "# Build the Model\n",
    "from keras import Sequential\n",
    "from keras.layers import Dense\n",
    "\n",
    "model = Sequential([\n",
    "       Dense( units=8, input_shape=(1,), activation='relu'),\n",
    "       Dense( units=2 , activation='softmax' )\n",
    "  ])\n",
    "\n",
    "model.summary()\n",
    "#parameters: 16 ---> input neuron to the hidden neurons: 8 + each neuron has bias: 8\n",
    "#parameters: 18 ---> hidden neurons to the output neurons: 16 + each output neurons has bias: 2"
   ]
  },
  {
   "cell_type": "code",
   "execution_count": 6,
   "metadata": {
    "id": "Vru8X2d-JB-J"
   },
   "outputs": [],
   "source": [
    "# Compile the model: model ready for training\n",
    "model.compile(\n",
    "    loss='sparse_categorical_crossentropy',\n",
    "    optimizer='adam',\n",
    "    metrics=['accuracy']\n",
    ")  # optimizer= It changes the weights and the bias parameters of the model during learning\n"
   ]
  },
  {
   "cell_type": "code",
   "execution_count": 7,
   "metadata": {
    "colab": {
     "base_uri": "https://localhost:8080/"
    },
    "id": "oEm7fe2WJmFC",
    "outputId": "e163108d-679f-4644-efd5-8f00023d4951"
   },
   "outputs": [
    {
     "name": "stdout",
     "output_type": "stream",
     "text": [
      "Epoch 1/10\n",
      "313/313 - 4s - loss: 0.6216 - accuracy: 0.6376 - 4s/epoch - 12ms/step\n",
      "Epoch 2/10\n",
      "313/313 - 0s - loss: 0.4555 - accuracy: 0.8681 - 339ms/epoch - 1ms/step\n",
      "Epoch 3/10\n",
      "313/313 - 0s - loss: 0.3265 - accuracy: 0.9386 - 350ms/epoch - 1ms/step\n",
      "Epoch 4/10\n",
      "313/313 - 0s - loss: 0.2373 - accuracy: 0.9727 - 340ms/epoch - 1ms/step\n",
      "Epoch 5/10\n",
      "313/313 - 0s - loss: 0.1772 - accuracy: 0.9868 - 344ms/epoch - 1ms/step\n",
      "Epoch 6/10\n",
      "313/313 - 0s - loss: 0.1390 - accuracy: 0.9925 - 351ms/epoch - 1ms/step\n",
      "Epoch 7/10\n",
      "313/313 - 0s - loss: 0.1147 - accuracy: 0.9951 - 332ms/epoch - 1ms/step\n",
      "Epoch 8/10\n",
      "313/313 - 0s - loss: 0.0982 - accuracy: 0.9944 - 304ms/epoch - 972us/step\n",
      "Epoch 9/10\n",
      "313/313 - 0s - loss: 0.0864 - accuracy: 0.9952 - 316ms/epoch - 1ms/step\n",
      "Epoch 10/10\n",
      "313/313 - 0s - loss: 0.0774 - accuracy: 0.9961 - 357ms/epoch - 1ms/step\n"
     ]
    },
    {
     "data": {
      "text/plain": [
       "<keras.callbacks.History at 0x24703960f10>"
      ]
     },
     "execution_count": 7,
     "metadata": {},
     "output_type": "execute_result"
    }
   ],
   "source": [
    "# Train the model\n",
    "model.fit(\n",
    "    x=data,\n",
    "    y=labels,\n",
    "    epochs=10,\n",
    "    verbose=2\n",
    ")"
   ]
  },
  {
   "cell_type": "code",
   "execution_count": 8,
   "metadata": {
    "colab": {
     "base_uri": "https://localhost:8080/"
    },
    "id": "3bx9fXdkiqXQ",
    "outputId": "fd11dc35-2f72-4ae5-95ec-a02e934abfa7"
   },
   "outputs": [
    {
     "name": "stdout",
     "output_type": "stream",
     "text": [
      "1/1 [==============================] - 0s 124ms/step\n"
     ]
    },
    {
     "data": {
      "text/plain": [
       "array([[9.9263787e-01, 7.3620854e-03],\n",
       "       [9.9229676e-01, 7.7032177e-03],\n",
       "       [9.0392137e-01, 9.6078627e-02],\n",
       "       [9.7541116e-02, 9.0245891e-01],\n",
       "       [1.2401593e-03, 9.9875987e-01],\n",
       "       [1.4264839e-05, 9.9998569e-01]], dtype=float32)"
      ]
     },
     "execution_count": 8,
     "metadata": {},
     "output_type": "execute_result"
    }
   ],
   "source": [
    "# Testing the model\n",
    "test_data = np.array([0, 0.2, 0.4, 0.6, 0.8, 1])\n",
    "predictions = model.predict(test_data)\n",
    "predictions                            #Output: [activation of the first output neuron, activation of the second output neuron]"
   ]
  },
  {
   "cell_type": "code",
   "execution_count": 9,
   "metadata": {
    "colab": {
     "base_uri": "https://localhost:8080/"
    },
    "id": "KXuYLr8mj4Zm",
    "outputId": "4f7b17bd-ee12-4224-bbbd-576a47fce495"
   },
   "outputs": [
    {
     "name": "stdout",
     "output_type": "stream",
     "text": [
      "[0 0 0 1 1 1]\n"
     ]
    }
   ],
   "source": [
    "# Now we want to know which of the 2 output neurons was most active\n",
    "print(np.argmax(predictions, axis=1))"
   ]
  },
  {
   "cell_type": "code",
   "execution_count": 10,
   "metadata": {
    "colab": {
     "base_uri": "https://localhost:8080/"
    },
    "id": "liXo9bW0mLvH",
    "outputId": "97d730e2-eecc-4d57-fda3-cd0f6f85bb23"
   },
   "outputs": [
    {
     "name": "stdout",
     "output_type": "stream",
     "text": [
      "Epoch 1/10\n",
      "282/282 [==============================] - 1s 2ms/step - loss: 0.0713 - accuracy: 0.9972 - val_loss: 0.0645 - val_accuracy: 0.9950\n",
      "Epoch 2/10\n",
      "282/282 [==============================] - 0s 2ms/step - loss: 0.0662 - accuracy: 0.9981 - val_loss: 0.0577 - val_accuracy: 0.9980\n",
      "Epoch 3/10\n",
      "282/282 [==============================] - 0s 2ms/step - loss: 0.0619 - accuracy: 0.9978 - val_loss: 0.0535 - val_accuracy: 0.9960\n",
      "Epoch 4/10\n",
      "282/282 [==============================] - 0s 2ms/step - loss: 0.0581 - accuracy: 0.9974 - val_loss: 0.0513 - val_accuracy: 1.0000\n",
      "Epoch 5/10\n",
      "282/282 [==============================] - 0s 2ms/step - loss: 0.0548 - accuracy: 0.9982 - val_loss: 0.0469 - val_accuracy: 0.9940\n",
      "Epoch 6/10\n",
      "282/282 [==============================] - 0s 2ms/step - loss: 0.0521 - accuracy: 0.9982 - val_loss: 0.0447 - val_accuracy: 0.9980\n",
      "Epoch 7/10\n",
      "282/282 [==============================] - 0s 2ms/step - loss: 0.0496 - accuracy: 0.9974 - val_loss: 0.0440 - val_accuracy: 0.9980\n",
      "Epoch 8/10\n",
      "282/282 [==============================] - 0s 2ms/step - loss: 0.0473 - accuracy: 0.9983 - val_loss: 0.0400 - val_accuracy: 0.9950\n",
      "Epoch 9/10\n",
      "282/282 [==============================] - 0s 2ms/step - loss: 0.0452 - accuracy: 0.9972 - val_loss: 0.0386 - val_accuracy: 0.9990\n",
      "Epoch 10/10\n",
      "282/282 [==============================] - 0s 2ms/step - loss: 0.0435 - accuracy: 0.9991 - val_loss: 0.0368 - val_accuracy: 0.9980\n"
     ]
    },
    {
     "data": {
      "text/plain": [
       "<keras.callbacks.History at 0x247039eeca0>"
      ]
     },
     "execution_count": 10,
     "metadata": {},
     "output_type": "execute_result"
    }
   ],
   "source": [
    "# Validating the model during training\n",
    "model.fit(\n",
    "    x = data,\n",
    "    y = labels,\n",
    "    epochs=10,\n",
    "    verbose=1,\n",
    "    validation_split=0.1                       #the model will take the last 10% of the training data\n",
    "\n",
    ")"
   ]
  },
  {
   "cell_type": "code",
   "execution_count": null,
   "metadata": {
    "id": "qm6z9U_yn49m"
   },
   "outputs": [],
   "source": []
  }
 ],
 "metadata": {
  "colab": {
   "provenance": []
  },
  "kernelspec": {
   "display_name": "Python 3 (ipykernel)",
   "language": "python",
   "name": "python3"
  },
  "language_info": {
   "codemirror_mode": {
    "name": "ipython",
    "version": 3
   },
   "file_extension": ".py",
   "mimetype": "text/x-python",
   "name": "python",
   "nbconvert_exporter": "python",
   "pygments_lexer": "ipython3",
   "version": "3.9.0"
  }
 },
 "nbformat": 4,
 "nbformat_minor": 4
}
